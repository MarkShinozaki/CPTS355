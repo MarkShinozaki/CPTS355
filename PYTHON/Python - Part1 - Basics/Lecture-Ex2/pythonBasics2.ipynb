{
 "cells": [
  {
   "cell_type": "markdown",
   "id": "f38a3ad0-50fa-4881-94f2-c2b60774e293",
   "metadata": {},
   "source": [
    "# Dictionaries:"
   ]
  },
  {
   "cell_type": "code",
   "execution_count": null,
   "id": "b6026d8b-1237-4ac5-a514-d7ca1b90124a",
   "metadata": {},
   "outputs": [],
   "source": [
    "d1 = { 1 :'a', 2 :'x', 3 :'y'}\n",
    "d2 = {'a': 1 , 2 :'b', 3 :'c', 'c': 3 , 4 :'d'}\n",
    "\n",
    "d2['a']\n",
    "d2[2]\n",
    "# d2[5]     # error, if you try to get the value of a key that doesnt exist in the dictionary, it generates an error."
   ]
  },
  {
   "cell_type": "code",
   "execution_count": null,
   "id": "d9158a13-386a-4b99-ab8a-8e8a8f4240fb",
   "metadata": {},
   "outputs": [],
   "source": [
    "d1 = { 1 :'a', 2 :'x', 3 :'y'}\n",
    "d2 = {'a': 1 , 2 :'b', 3 :'c', 'c': 3 , 4 :'d'}\n",
    "\n",
    "d2.get(5)  # no error. It returns none.\n",
    "d2.get(5,0)  # no error. It returns the provided default value : 0."
   ]
  },
  {
   "cell_type": "code",
   "execution_count": null,
   "id": "2d4fa015-2229-4d35-b641-32cc68704a32",
   "metadata": {},
   "outputs": [],
   "source": [
    "d1 = { 1 :'a', 2 :'x', 3 :'y'}\n",
    "d2 = {'a': 1 , 2 :'b', 3 :'c', 'c': 3 , 4 :'d'}\n",
    "\n",
    "# Python dictionaries are mutable\n",
    "# to add/update values to/in a dictionary \n",
    "d2[5] = 'f'  # add 5:'f' to dictionary\n",
    "d2[2] = 'D'  # update the value for key 2 as 'D'"
   ]
  },
  {
   "cell_type": "code",
   "execution_count": null,
   "id": "d093dee7-653c-4c7b-ba19-d4bd9e9b18cb",
   "metadata": {},
   "outputs": [],
   "source": [
    "# values in a dictionary can be functions\n",
    "def getFirst (t):\n",
    "    return t[0]\n",
    "    \n",
    "def getSecond (t):\n",
    "    return t[1]    \n",
    "\n",
    "d3 = {1:getFirst, 2:getSecond}\n",
    "d3[1]((1,\"two\"))\n",
    "d3[2]((1,\"two\"))"
   ]
  },
  {
   "cell_type": "markdown",
   "id": "55c16d51-308a-4b8d-ab32-7e31125593f7",
   "metadata": {},
   "source": [
    "# Can lists be dictionary keys?"
   ]
  },
  {
   "cell_type": "code",
   "execution_count": null,
   "id": "89906804-2de4-4006-ab3c-c0ae6e63fa3c",
   "metadata": {},
   "outputs": [],
   "source": [
    "# To get keys in dictionary:\n",
    "d2.keys()\n",
    "list (d2.keys())"
   ]
  },
  {
   "cell_type": "code",
   "execution_count": null,
   "id": "afc114ec-b770-4671-8af3-fbd016321aed",
   "metadata": {},
   "outputs": [],
   "source": [
    "# To get values in dictionary\n",
    "d2.values()\n",
    "list (d2.values())"
   ]
  },
  {
   "cell_type": "code",
   "execution_count": null,
   "id": "f9a065f5-c520-431f-bfc6-17e803bd524b",
   "metadata": {},
   "outputs": [],
   "source": [
    "# To get both:\n",
    "d2.items()\n",
    "list(d2.items())"
   ]
  },
  {
   "cell_type": "markdown",
   "id": "97627b5b-3ce4-4b74-825f-4e0a2e128243",
   "metadata": {},
   "source": [
    "# Sorting dictionaries :"
   ]
  },
  {
   "cell_type": "code",
   "execution_count": 1,
   "id": "10902be7-f532-461d-ade9-009b3c828b07",
   "metadata": {},
   "outputs": [],
   "source": [
    "#You can also sort dictionaries (Caution!):\n",
    "d = {'c': 5 , 'a': 1 , 'b': 2 , 'd': 1 }\n",
    "sorted (d)"
   ]
  },
  {
   "cell_type": "code",
   "execution_count": 2,
   "id": "c1dc002d-a42f-4db5-a5c4-e9dafba3c1f9",
   "metadata": {},
   "outputs": [
    {
     "data": {
      "text/plain": [
       "{'a': 1, 'd': 1, 'b': 2, 'c': 5}"
      ]
     },
     "execution_count": 2,
     "metadata": {},
     "output_type": "execute_result"
    }
   ],
   "source": [
    "di = list (d.items())\n",
    "sorted (di)\n",
    "sorted (di, key = lambda item: item[1])\n",
    "# convert a list of tuples to a dictionary\n",
    "d_sorted = dict(sorted(list (d.items())))"
   ]
  },
  {
   "cell_type": "markdown",
   "id": "071fd24e-1ce6-4dbe-9f65-4fcab86097e0",
   "metadata": {
    "tags": []
   },
   "source": [
    "# for and while loop"
   ]
  },
  {
   "cell_type": "code",
   "execution_count": null,
   "id": "a18d2ed8-0a70-49f0-a8a4-999d943f73c3",
   "metadata": {},
   "outputs": [],
   "source": [
    "myS = \"CptS355\"\n",
    "myL = [1,2,\"three\",(4,5),[6,7,8],True]\n",
    "numbers = [1,2,3,4,5,6,7,8]\n",
    "myT = (1,2,\"three\",4,5,6,False)\n",
    "myD = {\"f\":9,\"d\":3,\"e\":7,\"a\":1}\n",
    "myClasses = {1:\"355\",2:\"322\",3:\"451\",4:\"421\"}"
   ]
  },
  {
   "cell_type": "code",
   "execution_count": null,
   "id": "39df95a6-8a7f-4484-9090-84c31e21c25f",
   "metadata": {},
   "outputs": [],
   "source": [
    "for i in range(0,len(myL)):\n",
    "    print(myL[i])"
   ]
  },
  {
   "cell_type": "code",
   "execution_count": null,
   "id": "bee2ed0a-14ae-4058-81cd-bb360ad45a90",
   "metadata": {},
   "outputs": [],
   "source": [
    "for x in myS:\n",
    "    print(x)"
   ]
  },
  {
   "cell_type": "code",
   "execution_count": null,
   "id": "b1c1eeeb-9c6d-4376-92ba-375b80092755",
   "metadata": {},
   "outputs": [],
   "source": [
    "for k in myD.keys():\n",
    "    print(k,myD[k])"
   ]
  },
  {
   "cell_type": "code",
   "execution_count": null,
   "id": "d03807bc-3e67-4313-8a2c-055b7d952572",
   "metadata": {},
   "outputs": [],
   "source": [
    "for x in myD.items():\n",
    "    print(x[0],x[1])"
   ]
  },
  {
   "cell_type": "code",
   "execution_count": null,
   "id": "4df99282-a0c6-4a7a-a682-0c0776984d1d",
   "metadata": {},
   "outputs": [],
   "source": [
    "for k,v in myD.items():\n",
    "    print(k,v)"
   ]
  },
  {
   "cell_type": "code",
   "execution_count": null,
   "id": "8a6e6164-1f5f-43da-8c11-a0fb53af6feb",
   "metadata": {},
   "outputs": [],
   "source": [
    "cPairs = [('red',1), ('yellow',5),('blue',2)]\n",
    "for (name,count) in cPairs:\n",
    "   print('Color', name, 'appears', count, 'times')"
   ]
  },
  {
   "cell_type": "code",
   "execution_count": null,
   "id": "ab6f35a8-9501-4280-9bfb-a47e3a8010ae",
   "metadata": {},
   "outputs": [],
   "source": [
    "cTriples = [('red',1,0xFF0000), ('yellow',5,0xFFFF00),('blue',2,0x0000FF)]\n",
    "for (name,count,color) in cTriples:\n",
    "   print('Color', name, 'appears', count, 'times', '-', color)"
   ]
  },
  {
   "cell_type": "code",
   "execution_count": null,
   "id": "9b2094cc-1e7d-40df-a370-be7b15576a64",
   "metadata": {},
   "outputs": [],
   "source": [
    "# while loops are more prone to errors\n",
    "# the following while loop will not print all values in myL correctly \n",
    "i = 0\n",
    "x = myL[i]\n",
    "while i < len(myL):\n",
    "    print(x)\n",
    "    x = myL[i]\n",
    "    i +=1"
   ]
  },
  {
   "cell_type": "code",
   "execution_count": null,
   "id": "51a1eda7-0008-485f-a476-32a9d69c02ff",
   "metadata": {},
   "outputs": [],
   "source": [
    "#corrected\n",
    "i = 0\n",
    "while i < len(myL):\n",
    "    x = myL[i]\n",
    "    print(x)\n",
    "    i +=1"
   ]
  },
  {
   "cell_type": "code",
   "execution_count": null,
   "id": "a489732f-59ef-4d7e-a7b1-b251c62e73aa",
   "metadata": {},
   "outputs": [],
   "source": [
    "i = 0\n",
    "while i < len(myL):\n",
    "    x = myL[i]\n",
    "    if x == \"three\":\n",
    "        break\n",
    "    print(x)\n",
    "    i +=1"
   ]
  },
  {
   "cell_type": "markdown",
   "id": "04a326d5-68c1-488b-8b89-df461567e7f7",
   "metadata": {},
   "source": [
    "# conditional statements"
   ]
  },
  {
   "cell_type": "code",
   "execution_count": null,
   "id": "a89d338d-6c66-40b0-96f6-97adada09e97",
   "metadata": {},
   "outputs": [],
   "source": [
    "if \"three\" in myL:\n",
    "    print(\"found\")"
   ]
  },
  {
   "cell_type": "code",
   "execution_count": null,
   "id": "65bddc1a-2a92-4a0c-a8d3-c25a518bba1b",
   "metadata": {},
   "outputs": [],
   "source": [
    "c = \"355\"\n",
    "if c == \"355\":\n",
    "    print (\"CptS\",c)\n",
    "elif c == \"354\":\n",
    "    print (\"EE\",c)\n",
    "else:\n",
    "    print (\"N/A\")"
   ]
  }
 ],
 "metadata": {
  "kernelspec": {
   "display_name": "Python 3 (ipykernel)",
   "language": "python",
   "name": "python3"
  },
  "language_info": {
   "codemirror_mode": {
    "name": "ipython",
    "version": 3
   },
   "file_extension": ".py",
   "mimetype": "text/x-python",
   "name": "python",
   "nbconvert_exporter": "python",
   "pygments_lexer": "ipython3",
   "version": "3.7.4"
  }
 },
 "nbformat": 4,
 "nbformat_minor": 5
}
